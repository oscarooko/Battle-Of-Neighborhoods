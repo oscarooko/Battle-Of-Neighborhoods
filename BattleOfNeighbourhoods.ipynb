{
 "cells": [
  {
   "cell_type": "code",
   "execution_count": 1,
   "metadata": {},
   "outputs": [
    {
     "name": "stdout",
     "output_type": "stream",
     "text": [
      "libraries imported\n"
     ]
    }
   ],
   "source": [
    "#Importing Libraries\n",
    "\n",
    "import requests\n",
    "import csv\n",
    "import pandas as pd\n",
    "import numpy as np\n",
    "\n",
    "print('libraries imported')\n"
   ]
  },
  {
   "cell_type": "markdown",
   "metadata": {},
   "source": [
    "## The Battle of the Neighborhoods"
   ]
  },
  {
   "cell_type": "markdown",
   "metadata": {},
   "source": [
    "### Introduction-Business Problem\n",
    "\n",
    "Some wealthy tycoons from Asia would like to invest in Canada. They decided on Ontario as its one of the largest cities in the country. The tycoons have plenty of business interests around the world, and have primarily made their money in logistics, insurance and banking.\n",
    "They would like the opportunity to enter the food and restaurant business, but they are not sure if it would be viable, or most importantly what type of restaurant and where in Ontario it should be located.\n",
    "With this research, I will be able to advice the investors on what type of restaurants are already available and in what ares. This information will help them decide of the type of restaurant they will open. It will also help them decide the location of their restaurants."
   ]
  },
  {
   "cell_type": "markdown",
   "metadata": {},
   "source": [
    "### Datasets used\n",
    "\n",
    "For this project, I will be using data from from Wikipedia. The data will have information about various neighborhoods in Toronto and the types of restaurants in the areas.\n",
    "To extract the data, I will use BeautifulSoup. \n",
    "I will also use Foursquare to get a list of venues in Toronto. This list will be combine with the list of neighborhoods in Toronto to surface to the user the different types of restaurants in different neighborhoods of Toronto. "
   ]
  },
  {
   "cell_type": "code",
   "execution_count": null,
   "metadata": {},
   "outputs": [],
   "source": []
  }
 ],
 "metadata": {
  "kernelspec": {
   "display_name": "Python",
   "language": "python",
   "name": "conda-env-python-py"
  },
  "language_info": {
   "codemirror_mode": {
    "name": "ipython",
    "version": 3
   },
   "file_extension": ".py",
   "mimetype": "text/x-python",
   "name": "python",
   "nbconvert_exporter": "python",
   "pygments_lexer": "ipython3",
   "version": "3.6.7"
  }
 },
 "nbformat": 4,
 "nbformat_minor": 4
}
